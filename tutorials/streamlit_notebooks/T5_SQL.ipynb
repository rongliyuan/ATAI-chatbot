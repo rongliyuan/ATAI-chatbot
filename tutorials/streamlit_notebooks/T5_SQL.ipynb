{
  "nbformat": 4,
  "nbformat_minor": 0,
  "metadata": {
    "colab": {
      "provenance": [],
      "include_colab_link": true
    },
    "kernelspec": {
      "name": "python3",
      "display_name": "Python 3"
    },
    "language_info": {
      "name": "python"
    }
  },
  "cells": [
    {
      "cell_type": "markdown",
      "metadata": {
        "id": "view-in-github",
        "colab_type": "text"
      },
      "source": [
        "<a href=\"https://colab.research.google.com/github/rongliyuan/ATAI-chatbot/blob/main/tutorials/streamlit_notebooks/T5_SQL.ipynb\" target=\"_parent\"><img src=\"https://colab.research.google.com/assets/colab-badge.svg\" alt=\"Open In Colab\"/></a>"
      ]
    },
    {
      "cell_type": "markdown",
      "source": [
        "\n",
        "\n",
        "![JohnSnowLabs](https://nlp.johnsnowlabs.com/assets/images/logo.png)\n",
        "\n",
        "[![Open In Colab](https://colab.research.google.com/assets/colab-badge.svg)](https://githubtocolab.com/JohnSnowLabs/spark-nlp-workshop/blob/master/tutorials/streamlit_notebooks/T5_SQL.ipynb)\n",
        "\n",
        "\n"
      ],
      "metadata": {
        "id": "hs-xcz2deMDq"
      }
    },
    {
      "cell_type": "markdown",
      "source": [
        "### Spark NLP documentation and instructions:\n",
        "https://nlp.johnsnowlabs.com/docs/en/quickstart\n",
        "\n",
        "### Spark NLP Google T5 Article\n",
        "https://towardsdatascience.com/hands-on-googles-text-to-text-transfer-transformer-t5-with-spark-nlp-6f7db75cecff\n",
        "\n",
        "### For T5 models:\n",
        "https://nlp.johnsnowlabs.com/models?q=T5\n",
        "\n",
        "### You can find details about Spark NLP models here:\n",
        "https://nlp.johnsnowlabs.com/models\n",
        "\n"
      ],
      "metadata": {
        "id": "ifkFG9AKePsM"
      }
    },
    {
      "cell_type": "markdown",
      "source": [
        "## 1. Colab Setup"
      ],
      "metadata": {
        "id": "_pstwf6UeSwa"
      }
    },
    {
      "cell_type": "code",
      "source": [
        "# Install PySpark and Spark NLP\n",
        "! pip install -q pyspark==3.3.0 spark-nlp==4.2.8"
      ],
      "metadata": {
        "id": "Ser3fedfSwic",
        "outputId": "8b4452bd-c29f-4a37-87d2-c0d71edd0ed9",
        "colab": {
          "base_uri": "https://localhost:8080/"
        }
      },
      "execution_count": 1,
      "outputs": [
        {
          "output_type": "stream",
          "name": "stdout",
          "text": [
            "\u001b[2K     \u001b[90m━━━━━━━━━━━━━━━━━━━━━━━━━━━━━━━━━━━━━━━━\u001b[0m \u001b[32m281.3/281.3 MB\u001b[0m \u001b[31m4.9 MB/s\u001b[0m eta \u001b[36m0:00:00\u001b[0m\n",
            "\u001b[?25h  Preparing metadata (setup.py) ... \u001b[?25l\u001b[?25hdone\n",
            "\u001b[2K     \u001b[90m━━━━━━━━━━━━━━━━━━━━━━━━━━━━━━━━━━━━━━━━\u001b[0m \u001b[32m453.8/453.8 kB\u001b[0m \u001b[31m33.2 MB/s\u001b[0m eta \u001b[36m0:00:00\u001b[0m\n",
            "\u001b[2K     \u001b[90m━━━━━━━━━━━━━━━━━━━━━━━━━━━━━━━━━━━━━━━━\u001b[0m \u001b[32m199.7/199.7 kB\u001b[0m \u001b[31m20.4 MB/s\u001b[0m eta \u001b[36m0:00:00\u001b[0m\n",
            "\u001b[?25h  Building wheel for pyspark (setup.py) ... \u001b[?25l\u001b[?25hdone\n"
          ]
        }
      ]
    },
    {
      "cell_type": "markdown",
      "source": [
        "# 2. Start the Spark session"
      ],
      "metadata": {
        "id": "M-_lOGQYfCBu"
      }
    },
    {
      "cell_type": "code",
      "source": [
        "import json\n",
        "import pandas as pd\n",
        "import numpy as np\n",
        "\n",
        "import sparknlp\n",
        "import pyspark.sql.functions as F\n",
        "\n",
        "from pyspark.ml import Pipeline\n",
        "from pyspark.sql import SparkSession\n",
        "from sparknlp.annotator import *\n",
        "from sparknlp.base import *\n",
        "from sparknlp.pretrained import PretrainedPipeline\n",
        "from pyspark.sql.types import StringType, IntegerType"
      ],
      "metadata": {
        "id": "P7NOSR6vfCik"
      },
      "execution_count": 2,
      "outputs": []
    },
    {
      "cell_type": "code",
      "source": [
        "spark = sparknlp.start()\n",
        "print (\"Spark NLP Version :\", sparknlp.version())\n",
        "spark"
      ],
      "metadata": {
        "colab": {
          "base_uri": "https://localhost:8080/",
          "height": 239
        },
        "id": "EuRPHeieZnBh",
        "outputId": "e60eedcd-b42f-4ef5-fe63-d9d2efb0bc3f"
      },
      "execution_count": 3,
      "outputs": [
        {
          "output_type": "stream",
          "name": "stdout",
          "text": [
            "Spark NLP Version : 4.2.8\n"
          ]
        },
        {
          "output_type": "execute_result",
          "data": {
            "text/plain": [
              "<pyspark.sql.session.SparkSession at 0x7c57c8287640>"
            ],
            "text/html": [
              "\n",
              "            <div>\n",
              "                <p><b>SparkSession - in-memory</b></p>\n",
              "                \n",
              "        <div>\n",
              "            <p><b>SparkContext</b></p>\n",
              "\n",
              "            <p><a href=\"http://1e36384c8540:4040\">Spark UI</a></p>\n",
              "\n",
              "            <dl>\n",
              "              <dt>Version</dt>\n",
              "                <dd><code>v3.3.0</code></dd>\n",
              "              <dt>Master</dt>\n",
              "                <dd><code>local[*]</code></dd>\n",
              "              <dt>AppName</dt>\n",
              "                <dd><code>Spark NLP</code></dd>\n",
              "            </dl>\n",
              "        </div>\n",
              "        \n",
              "            </div>\n",
              "        "
            ]
          },
          "metadata": {},
          "execution_count": 3
        }
      ]
    },
    {
      "cell_type": "markdown",
      "source": [
        "# Choose a sample text"
      ],
      "metadata": {
        "id": "JN7qzCx60XJ2"
      }
    },
    {
      "cell_type": "code",
      "source": [
        "text_list = [\n",
        "            \"\"\"How many customers have ordered more than 2 items?\"\"\",\n",
        "             \"\"\"How many players were with the school or club team La Salle?\"\"\",\n",
        "             \"\"\"When the scoring rank was 117, what was the best finish?\"\"\",\n",
        "             \"\"\"When the best finish was T69, how many people came in 2nd?\"\"\",\n",
        "             \"\"\"How many wins were there when the money list rank was 183?\"\"\",\n",
        "             \"\"\"When did the Metrostars have their first Rookie of the Year winner?\"\"\",\n",
        "             \"\"\"What college did the Rookie of the Year from the Columbus Crew attend?\"\"\",\n",
        "            ]"
      ],
      "metadata": {
        "id": "U98f6V7C0kzK"
      },
      "execution_count": 38,
      "outputs": []
    },
    {
      "cell_type": "markdown",
      "source": [
        "### Detect Movie Entities - MIT Movie Simple"
      ],
      "metadata": {
        "id": "Q6hukLBnsRyC"
      }
    },
    {
      "cell_type": "code",
      "source": [
        "document_assembler = DocumentAssembler() \\\n",
        ".setInputCol('text') \\\n",
        ".setOutputCol('document')\n",
        "\n",
        "tokenizer = Tokenizer() \\\n",
        ".setInputCols(['document']) \\\n",
        ".setOutputCol('token')\n",
        "\n",
        "embeddings = DistilBertEmbeddings\\\n",
        ".pretrained('distilbert_base_cased', 'en')\\\n",
        ".setInputCols([\"token\", \"document\"])\\\n",
        ".setOutputCol(\"embeddings\")\n",
        "\n",
        "ner_model = NerDLModel.pretrained('ner_mit_movie_simple_distilbert_base_cased', 'en') \\\n",
        ".setInputCols(['document', 'token', 'embeddings']) \\\n",
        ".setOutputCol('ner')\n",
        "\n",
        "ner_converter = NerConverter() \\\n",
        ".setInputCols(['document', 'token', 'ner']) \\\n",
        ".setOutputCol('entities')\n"
      ],
      "metadata": {
        "colab": {
          "base_uri": "https://localhost:8080/"
        },
        "id": "e611xGe9sVWr",
        "outputId": "89738e98-6198-47a1-e9f3-176095abce58"
      },
      "execution_count": 4,
      "outputs": [
        {
          "output_type": "stream",
          "name": "stdout",
          "text": [
            "distilbert_base_cased download started this may take some time.\n",
            "Approximate size to download 232.7 MB\n",
            "[OK!]\n",
            "ner_mit_movie_simple_distilbert_base_cased download started this may take some time.\n",
            "Approximate size to download 15.5 MB\n",
            "[OK!]\n"
          ]
        }
      ]
    },
    {
      "cell_type": "code",
      "source": [
        "ent_pipeline = Pipeline(stages=[\n",
        "document_assembler,\n",
        "tokenizer,\n",
        "embeddings,\n",
        "ner_model,\n",
        "ner_converter\n",
        "])"
      ],
      "metadata": {
        "id": "pwyfSiCfRN-C"
      },
      "execution_count": 5,
      "outputs": []
    },
    {
      "cell_type": "code",
      "source": [
        "# example = spark.createDataFrame(pd.DataFrame({'text': [\n",
        "#     \"Help me find a movie with the song when you really love a woman\",\n",
        "#     \"What film featured Mel Gibson Danny Glover and Jet Li\",\n",
        "#     \"Is there a documentary about the sports agency industry\",\n",
        "\n",
        "#     ]}))"
      ],
      "metadata": {
        "id": "gMsbwgrn01IR"
      },
      "execution_count": null,
      "outputs": []
    },
    {
      "cell_type": "code",
      "source": [
        "example = spark.createDataFrame(pd.DataFrame({'text': [\n",
        "             \"What is the most current movie featuring Mat Damon\",\n",
        "              \"What films use the song zippity do da\",\n",
        "              \"In what genre is the movie Par 6\",\n",
        "              \"Is there a documentary about the sports agency industry\",\n",
        "              \"Channing Tatum has played what starring roles\",\n",
        "              \"List of actors A Beautiful Mind\",\n",
        "             \"Find the Melissa Leo Movie about smuggling illegals across the border\",\n",
        "             \"Tell me the director, rating and publication date of a Apocalypse Now\",\n",
        "             \"Avatar came out when and what did it gross\",\n",
        "             \"Who is the director of Star Wars: Episode VI - Return of the Jedi? \",\n",
        "             \"Who is the screenwriter of The Masked Gang: Cyprus? \",\n",
        "             \"When was 'The Godfather' released? \",\n",
        "\n",
        "]\n",
        "}))"
      ],
      "metadata": {
        "id": "WZqLcNtA09Lm",
        "outputId": "4003f2d6-aeab-4483-eb53-779731df1990",
        "colab": {
          "base_uri": "https://localhost:8080/"
        }
      },
      "execution_count": 6,
      "outputs": [
        {
          "output_type": "stream",
          "name": "stderr",
          "text": [
            "/usr/local/lib/python3.10/dist-packages/pyspark/sql/pandas/conversion.py:474: FutureWarning: iteritems is deprecated and will be removed in a future version. Use .items instead.\n",
            "  for column, series in pdf.iteritems():\n",
            "/usr/local/lib/python3.10/dist-packages/pyspark/sql/pandas/conversion.py:486: FutureWarning: iteritems is deprecated and will be removed in a future version. Use .items instead.\n",
            "  for column, series in pdf.iteritems():\n"
          ]
        }
      ]
    },
    {
      "cell_type": "code",
      "source": [
        "result = ent_pipeline.fit(example).transform(example)"
      ],
      "metadata": {
        "id": "w7sIDfhYseCY"
      },
      "execution_count": 7,
      "outputs": []
    },
    {
      "cell_type": "code",
      "source": [
        "result.select(\"text\", \"entities\").show(truncate=False)"
      ],
      "metadata": {
        "id": "5uR1JF80sx0S",
        "outputId": "9d1f7a37-d7f2-40e5-f50a-9abef43c7912",
        "colab": {
          "base_uri": "https://localhost:8080/"
        }
      },
      "execution_count": 8,
      "outputs": [
        {
          "output_type": "stream",
          "name": "stdout",
          "text": [
            "+---------------------------------------------------------------------+-------------------------------------------------------------------------------------------------------------------------------------------------------------------------------------------------------------------------------+\n",
            "|text                                                                 |entities                                                                                                                                                                                                                       |\n",
            "+---------------------------------------------------------------------+-------------------------------------------------------------------------------------------------------------------------------------------------------------------------------------------------------------------------------+\n",
            "|What is the most current movie featuring Mat Damon                   |[{chunk, 41, 49, Mat Damon, {entity -> ACTOR, sentence -> 0, chunk -> 0, confidence -> 0.79325}, []}]                                                                                                                          |\n",
            "|What films use the song zippity do da                                |[{chunk, 24, 36, zippity do da, {entity -> SONG, sentence -> 0, chunk -> 0, confidence -> 0.6404333}, []}]                                                                                                                     |\n",
            "|In what genre is the movie Par 6                                     |[{chunk, 27, 31, Par 6, {entity -> TITLE, sentence -> 0, chunk -> 0, confidence -> 0.9612}, []}]                                                                                                                               |\n",
            "|Is there a documentary about the sports agency industry              |[{chunk, 11, 21, documentary, {entity -> GENRE, sentence -> 0, chunk -> 0, confidence -> 0.9952}, []}, {chunk, 33, 54, sports agency industry, {entity -> PLOT, sentence -> 0, chunk -> 1, confidence -> 0.7601333}, []}]      |\n",
            "|Channing Tatum has played what starring roles                        |[{chunk, 0, 13, Channing Tatum, {entity -> ACTOR, sentence -> 0, chunk -> 0, confidence -> 0.87235}, []}]                                                                                                                      |\n",
            "|List of actors A Beautiful Mind                                      |[{chunk, 17, 30, Beautiful Mind, {entity -> TITLE, sentence -> 0, chunk -> 0, confidence -> 0.73225}, []}]                                                                                                                     |\n",
            "|Find the Melissa Leo Movie about smuggling illegals across the border|[{chunk, 9, 15, Melissa, {entity -> PLOT, sentence -> 0, chunk -> 0, confidence -> 0.4065}, []}, {chunk, 33, 68, smuggling illegals across the border, {entity -> PLOT, sentence -> 0, chunk -> 1, confidence -> 0.58764}, []}]|\n",
            "|Tell me the director, rating and publication date of a Apocalypse Now|[{chunk, 55, 68, Apocalypse Now, {entity -> TITLE, sentence -> 0, chunk -> 0, confidence -> 0.69065}, []}]                                                                                                                     |\n",
            "|Avatar came out when and what did it gross                           |[{chunk, 0, 5, Avatar, {entity -> TITLE, sentence -> 0, chunk -> 0, confidence -> 0.8806}, []}]                                                                                                                                |\n",
            "|Who is the director of Star Wars: Episode VI - Return of the Jedi?   |[{chunk, 23, 64, Star Wars: Episode VI - Return of the Jedi, {entity -> TITLE, sentence -> 0, chunk -> 0, confidence -> 0.82759}, []}]                                                                                         |\n",
            "|Who is the screenwriter of The Masked Gang: Cyprus?                  |[{chunk, 27, 49, The Masked Gang: Cyprus, {entity -> TITLE, sentence -> 0, chunk -> 0, confidence -> 0.82424}, []}]                                                                                                            |\n",
            "|When was 'The Godfather' released?                                   |[{chunk, 10, 22, The Godfather, {entity -> TITLE, sentence -> 0, chunk -> 0, confidence -> 0.6991}, []}]                                                                                                                       |\n",
            "+---------------------------------------------------------------------+-------------------------------------------------------------------------------------------------------------------------------------------------------------------------------------------------------------------------------+\n",
            "\n"
          ]
        }
      ]
    },
    {
      "cell_type": "code",
      "source": [
        "ents = result.select(\"text\", \"entities\").toPandas()"
      ],
      "metadata": {
        "id": "GQXCopSYWzkp"
      },
      "execution_count": 9,
      "outputs": []
    },
    {
      "cell_type": "code",
      "source": [
        "ents"
      ],
      "metadata": {
        "id": "dEqiW4WjWlFW",
        "outputId": "e19c1073-2674-421a-d2a7-19d6dd176a96",
        "colab": {
          "base_uri": "https://localhost:8080/",
          "height": 426
        }
      },
      "execution_count": 10,
      "outputs": [
        {
          "output_type": "execute_result",
          "data": {
            "text/plain": [
              "                                                 text  \\\n",
              "0   What is the most current movie featuring Mat D...   \n",
              "1               What films use the song zippity do da   \n",
              "2                    In what genre is the movie Par 6   \n",
              "3   Is there a documentary about the sports agency...   \n",
              "4       Channing Tatum has played what starring roles   \n",
              "5                     List of actors A Beautiful Mind   \n",
              "6   Find the Melissa Leo Movie about smuggling ill...   \n",
              "7   Tell me the director, rating and publication d...   \n",
              "8          Avatar came out when and what did it gross   \n",
              "9   Who is the director of Star Wars: Episode VI -...   \n",
              "10  Who is the screenwriter of The Masked Gang: Cy...   \n",
              "11                When was 'The Godfather' released?    \n",
              "\n",
              "                                             entities  \n",
              "0   [(chunk, 41, 49, Mat Damon, {'sentence': '0', ...  \n",
              "1   [(chunk, 24, 36, zippity do da, {'sentence': '...  \n",
              "2   [(chunk, 27, 31, Par 6, {'sentence': '0', 'chu...  \n",
              "3   [(chunk, 11, 21, documentary, {'sentence': '0'...  \n",
              "4   [(chunk, 0, 13, Channing Tatum, {'sentence': '...  \n",
              "5   [(chunk, 17, 30, Beautiful Mind, {'sentence': ...  \n",
              "6   [(chunk, 9, 15, Melissa, {'sentence': '0', 'ch...  \n",
              "7   [(chunk, 55, 68, Apocalypse Now, {'sentence': ...  \n",
              "8   [(chunk, 0, 5, Avatar, {'sentence': '0', 'chun...  \n",
              "9   [(chunk, 23, 64, Star Wars: Episode VI - Retur...  \n",
              "10  [(chunk, 27, 49, The Masked Gang: Cyprus, {'se...  \n",
              "11  [(chunk, 10, 22, The Godfather, {'sentence': '...  "
            ],
            "text/html": [
              "\n",
              "  <div id=\"df-0989f31b-458a-4b42-92ff-393f23fcad6e\" class=\"colab-df-container\">\n",
              "    <div>\n",
              "<style scoped>\n",
              "    .dataframe tbody tr th:only-of-type {\n",
              "        vertical-align: middle;\n",
              "    }\n",
              "\n",
              "    .dataframe tbody tr th {\n",
              "        vertical-align: top;\n",
              "    }\n",
              "\n",
              "    .dataframe thead th {\n",
              "        text-align: right;\n",
              "    }\n",
              "</style>\n",
              "<table border=\"1\" class=\"dataframe\">\n",
              "  <thead>\n",
              "    <tr style=\"text-align: right;\">\n",
              "      <th></th>\n",
              "      <th>text</th>\n",
              "      <th>entities</th>\n",
              "    </tr>\n",
              "  </thead>\n",
              "  <tbody>\n",
              "    <tr>\n",
              "      <th>0</th>\n",
              "      <td>What is the most current movie featuring Mat D...</td>\n",
              "      <td>[(chunk, 41, 49, Mat Damon, {'sentence': '0', ...</td>\n",
              "    </tr>\n",
              "    <tr>\n",
              "      <th>1</th>\n",
              "      <td>What films use the song zippity do da</td>\n",
              "      <td>[(chunk, 24, 36, zippity do da, {'sentence': '...</td>\n",
              "    </tr>\n",
              "    <tr>\n",
              "      <th>2</th>\n",
              "      <td>In what genre is the movie Par 6</td>\n",
              "      <td>[(chunk, 27, 31, Par 6, {'sentence': '0', 'chu...</td>\n",
              "    </tr>\n",
              "    <tr>\n",
              "      <th>3</th>\n",
              "      <td>Is there a documentary about the sports agency...</td>\n",
              "      <td>[(chunk, 11, 21, documentary, {'sentence': '0'...</td>\n",
              "    </tr>\n",
              "    <tr>\n",
              "      <th>4</th>\n",
              "      <td>Channing Tatum has played what starring roles</td>\n",
              "      <td>[(chunk, 0, 13, Channing Tatum, {'sentence': '...</td>\n",
              "    </tr>\n",
              "    <tr>\n",
              "      <th>5</th>\n",
              "      <td>List of actors A Beautiful Mind</td>\n",
              "      <td>[(chunk, 17, 30, Beautiful Mind, {'sentence': ...</td>\n",
              "    </tr>\n",
              "    <tr>\n",
              "      <th>6</th>\n",
              "      <td>Find the Melissa Leo Movie about smuggling ill...</td>\n",
              "      <td>[(chunk, 9, 15, Melissa, {'sentence': '0', 'ch...</td>\n",
              "    </tr>\n",
              "    <tr>\n",
              "      <th>7</th>\n",
              "      <td>Tell me the director, rating and publication d...</td>\n",
              "      <td>[(chunk, 55, 68, Apocalypse Now, {'sentence': ...</td>\n",
              "    </tr>\n",
              "    <tr>\n",
              "      <th>8</th>\n",
              "      <td>Avatar came out when and what did it gross</td>\n",
              "      <td>[(chunk, 0, 5, Avatar, {'sentence': '0', 'chun...</td>\n",
              "    </tr>\n",
              "    <tr>\n",
              "      <th>9</th>\n",
              "      <td>Who is the director of Star Wars: Episode VI -...</td>\n",
              "      <td>[(chunk, 23, 64, Star Wars: Episode VI - Retur...</td>\n",
              "    </tr>\n",
              "    <tr>\n",
              "      <th>10</th>\n",
              "      <td>Who is the screenwriter of The Masked Gang: Cy...</td>\n",
              "      <td>[(chunk, 27, 49, The Masked Gang: Cyprus, {'se...</td>\n",
              "    </tr>\n",
              "    <tr>\n",
              "      <th>11</th>\n",
              "      <td>When was 'The Godfather' released?</td>\n",
              "      <td>[(chunk, 10, 22, The Godfather, {'sentence': '...</td>\n",
              "    </tr>\n",
              "  </tbody>\n",
              "</table>\n",
              "</div>\n",
              "    <div class=\"colab-df-buttons\">\n",
              "\n",
              "  <div class=\"colab-df-container\">\n",
              "    <button class=\"colab-df-convert\" onclick=\"convertToInteractive('df-0989f31b-458a-4b42-92ff-393f23fcad6e')\"\n",
              "            title=\"Convert this dataframe to an interactive table.\"\n",
              "            style=\"display:none;\">\n",
              "\n",
              "  <svg xmlns=\"http://www.w3.org/2000/svg\" height=\"24px\" viewBox=\"0 -960 960 960\">\n",
              "    <path d=\"M120-120v-720h720v720H120Zm60-500h600v-160H180v160Zm220 220h160v-160H400v160Zm0 220h160v-160H400v160ZM180-400h160v-160H180v160Zm440 0h160v-160H620v160ZM180-180h160v-160H180v160Zm440 0h160v-160H620v160Z\"/>\n",
              "  </svg>\n",
              "    </button>\n",
              "\n",
              "  <style>\n",
              "    .colab-df-container {\n",
              "      display:flex;\n",
              "      gap: 12px;\n",
              "    }\n",
              "\n",
              "    .colab-df-convert {\n",
              "      background-color: #E8F0FE;\n",
              "      border: none;\n",
              "      border-radius: 50%;\n",
              "      cursor: pointer;\n",
              "      display: none;\n",
              "      fill: #1967D2;\n",
              "      height: 32px;\n",
              "      padding: 0 0 0 0;\n",
              "      width: 32px;\n",
              "    }\n",
              "\n",
              "    .colab-df-convert:hover {\n",
              "      background-color: #E2EBFA;\n",
              "      box-shadow: 0px 1px 2px rgba(60, 64, 67, 0.3), 0px 1px 3px 1px rgba(60, 64, 67, 0.15);\n",
              "      fill: #174EA6;\n",
              "    }\n",
              "\n",
              "    .colab-df-buttons div {\n",
              "      margin-bottom: 4px;\n",
              "    }\n",
              "\n",
              "    [theme=dark] .colab-df-convert {\n",
              "      background-color: #3B4455;\n",
              "      fill: #D2E3FC;\n",
              "    }\n",
              "\n",
              "    [theme=dark] .colab-df-convert:hover {\n",
              "      background-color: #434B5C;\n",
              "      box-shadow: 0px 1px 3px 1px rgba(0, 0, 0, 0.15);\n",
              "      filter: drop-shadow(0px 1px 2px rgba(0, 0, 0, 0.3));\n",
              "      fill: #FFFFFF;\n",
              "    }\n",
              "  </style>\n",
              "\n",
              "    <script>\n",
              "      const buttonEl =\n",
              "        document.querySelector('#df-0989f31b-458a-4b42-92ff-393f23fcad6e button.colab-df-convert');\n",
              "      buttonEl.style.display =\n",
              "        google.colab.kernel.accessAllowed ? 'block' : 'none';\n",
              "\n",
              "      async function convertToInteractive(key) {\n",
              "        const element = document.querySelector('#df-0989f31b-458a-4b42-92ff-393f23fcad6e');\n",
              "        const dataTable =\n",
              "          await google.colab.kernel.invokeFunction('convertToInteractive',\n",
              "                                                    [key], {});\n",
              "        if (!dataTable) return;\n",
              "\n",
              "        const docLinkHtml = 'Like what you see? Visit the ' +\n",
              "          '<a target=\"_blank\" href=https://colab.research.google.com/notebooks/data_table.ipynb>data table notebook</a>'\n",
              "          + ' to learn more about interactive tables.';\n",
              "        element.innerHTML = '';\n",
              "        dataTable['output_type'] = 'display_data';\n",
              "        await google.colab.output.renderOutput(dataTable, element);\n",
              "        const docLink = document.createElement('div');\n",
              "        docLink.innerHTML = docLinkHtml;\n",
              "        element.appendChild(docLink);\n",
              "      }\n",
              "    </script>\n",
              "  </div>\n",
              "\n",
              "\n",
              "<div id=\"df-19095a66-2ecf-4798-b5c1-52f48a80225e\">\n",
              "  <button class=\"colab-df-quickchart\" onclick=\"quickchart('df-19095a66-2ecf-4798-b5c1-52f48a80225e')\"\n",
              "            title=\"Suggest charts.\"\n",
              "            style=\"display:none;\">\n",
              "\n",
              "<svg xmlns=\"http://www.w3.org/2000/svg\" height=\"24px\"viewBox=\"0 0 24 24\"\n",
              "     width=\"24px\">\n",
              "    <g>\n",
              "        <path d=\"M19 3H5c-1.1 0-2 .9-2 2v14c0 1.1.9 2 2 2h14c1.1 0 2-.9 2-2V5c0-1.1-.9-2-2-2zM9 17H7v-7h2v7zm4 0h-2V7h2v10zm4 0h-2v-4h2v4z\"/>\n",
              "    </g>\n",
              "</svg>\n",
              "  </button>\n",
              "\n",
              "<style>\n",
              "  .colab-df-quickchart {\n",
              "      --bg-color: #E8F0FE;\n",
              "      --fill-color: #1967D2;\n",
              "      --hover-bg-color: #E2EBFA;\n",
              "      --hover-fill-color: #174EA6;\n",
              "      --disabled-fill-color: #AAA;\n",
              "      --disabled-bg-color: #DDD;\n",
              "  }\n",
              "\n",
              "  [theme=dark] .colab-df-quickchart {\n",
              "      --bg-color: #3B4455;\n",
              "      --fill-color: #D2E3FC;\n",
              "      --hover-bg-color: #434B5C;\n",
              "      --hover-fill-color: #FFFFFF;\n",
              "      --disabled-bg-color: #3B4455;\n",
              "      --disabled-fill-color: #666;\n",
              "  }\n",
              "\n",
              "  .colab-df-quickchart {\n",
              "    background-color: var(--bg-color);\n",
              "    border: none;\n",
              "    border-radius: 50%;\n",
              "    cursor: pointer;\n",
              "    display: none;\n",
              "    fill: var(--fill-color);\n",
              "    height: 32px;\n",
              "    padding: 0;\n",
              "    width: 32px;\n",
              "  }\n",
              "\n",
              "  .colab-df-quickchart:hover {\n",
              "    background-color: var(--hover-bg-color);\n",
              "    box-shadow: 0 1px 2px rgba(60, 64, 67, 0.3), 0 1px 3px 1px rgba(60, 64, 67, 0.15);\n",
              "    fill: var(--button-hover-fill-color);\n",
              "  }\n",
              "\n",
              "  .colab-df-quickchart-complete:disabled,\n",
              "  .colab-df-quickchart-complete:disabled:hover {\n",
              "    background-color: var(--disabled-bg-color);\n",
              "    fill: var(--disabled-fill-color);\n",
              "    box-shadow: none;\n",
              "  }\n",
              "\n",
              "  .colab-df-spinner {\n",
              "    border: 2px solid var(--fill-color);\n",
              "    border-color: transparent;\n",
              "    border-bottom-color: var(--fill-color);\n",
              "    animation:\n",
              "      spin 1s steps(1) infinite;\n",
              "  }\n",
              "\n",
              "  @keyframes spin {\n",
              "    0% {\n",
              "      border-color: transparent;\n",
              "      border-bottom-color: var(--fill-color);\n",
              "      border-left-color: var(--fill-color);\n",
              "    }\n",
              "    20% {\n",
              "      border-color: transparent;\n",
              "      border-left-color: var(--fill-color);\n",
              "      border-top-color: var(--fill-color);\n",
              "    }\n",
              "    30% {\n",
              "      border-color: transparent;\n",
              "      border-left-color: var(--fill-color);\n",
              "      border-top-color: var(--fill-color);\n",
              "      border-right-color: var(--fill-color);\n",
              "    }\n",
              "    40% {\n",
              "      border-color: transparent;\n",
              "      border-right-color: var(--fill-color);\n",
              "      border-top-color: var(--fill-color);\n",
              "    }\n",
              "    60% {\n",
              "      border-color: transparent;\n",
              "      border-right-color: var(--fill-color);\n",
              "    }\n",
              "    80% {\n",
              "      border-color: transparent;\n",
              "      border-right-color: var(--fill-color);\n",
              "      border-bottom-color: var(--fill-color);\n",
              "    }\n",
              "    90% {\n",
              "      border-color: transparent;\n",
              "      border-bottom-color: var(--fill-color);\n",
              "    }\n",
              "  }\n",
              "</style>\n",
              "\n",
              "  <script>\n",
              "    async function quickchart(key) {\n",
              "      const quickchartButtonEl =\n",
              "        document.querySelector('#' + key + ' button');\n",
              "      quickchartButtonEl.disabled = true;  // To prevent multiple clicks.\n",
              "      quickchartButtonEl.classList.add('colab-df-spinner');\n",
              "      try {\n",
              "        const charts = await google.colab.kernel.invokeFunction(\n",
              "            'suggestCharts', [key], {});\n",
              "      } catch (error) {\n",
              "        console.error('Error during call to suggestCharts:', error);\n",
              "      }\n",
              "      quickchartButtonEl.classList.remove('colab-df-spinner');\n",
              "      quickchartButtonEl.classList.add('colab-df-quickchart-complete');\n",
              "    }\n",
              "    (() => {\n",
              "      let quickchartButtonEl =\n",
              "        document.querySelector('#df-19095a66-2ecf-4798-b5c1-52f48a80225e button');\n",
              "      quickchartButtonEl.style.display =\n",
              "        google.colab.kernel.accessAllowed ? 'block' : 'none';\n",
              "    })();\n",
              "  </script>\n",
              "</div>\n",
              "    </div>\n",
              "  </div>\n"
            ]
          },
          "metadata": {},
          "execution_count": 10
        }
      ]
    },
    {
      "cell_type": "code",
      "source": [
        "result.select(\"ner\").show(truncate=False)"
      ],
      "metadata": {
        "id": "vqJtvJXOuJKM",
        "outputId": "c199edd0-7506-493e-c5ac-3b7155aa2800",
        "colab": {
          "base_uri": "https://localhost:8080/"
        }
      },
      "execution_count": 72,
      "outputs": [
        {
          "output_type": "stream",
          "name": "stdout",
          "text": [
            "+------------------------------------------------------------------------------------------------------------------------------------------------------------------------------------------------------------------------------------------------------------------------------------------------------------------------------------------------------------------------------------------------------------------------------------------------------------------------------------------------------------------------------------------------------------------------------------------------------------------------------------------------------------------------------------------------------------------------------------------------------------------------------------------------------------------------------------------------------------------------------------------------------------------------------------------------------------------------------------------------------------------------------------------------------------------------------------------------------------------------------------------------------------------------------------------------------------------------------------------------------------------------------------------------------------------------------------------------------------------------------------------------------------------------------------------+\n",
            "|ner                                                                                                                                                                                                                                                                                                                                                                                                                                                                                                                                                                                                                                                                                                                                                                                                                                                                                                                                                                                                                                                                                                                                                                                                                                                                                                                                                                                                                                       |\n",
            "+------------------------------------------------------------------------------------------------------------------------------------------------------------------------------------------------------------------------------------------------------------------------------------------------------------------------------------------------------------------------------------------------------------------------------------------------------------------------------------------------------------------------------------------------------------------------------------------------------------------------------------------------------------------------------------------------------------------------------------------------------------------------------------------------------------------------------------------------------------------------------------------------------------------------------------------------------------------------------------------------------------------------------------------------------------------------------------------------------------------------------------------------------------------------------------------------------------------------------------------------------------------------------------------------------------------------------------------------------------------------------------------------------------------------------------------+\n",
            "|[{named_entity, 0, 3, O, {word -> What, confidence -> 0.9983, sentence -> 0}, []}, {named_entity, 5, 6, O, {word -> is, confidence -> 0.8854, sentence -> 0}, []}, {named_entity, 8, 10, O, {word -> the, confidence -> 0.8584, sentence -> 0}, []}, {named_entity, 12, 15, O, {word -> most, confidence -> 0.2144, sentence -> 0}, []}, {named_entity, 17, 23, O, {word -> current, confidence -> 0.3953, sentence -> 0}, []}, {named_entity, 25, 29, O, {word -> movie, confidence -> 0.8628, sentence -> 0}, []}, {named_entity, 31, 39, O, {word -> featuring, confidence -> 0.9119, sentence -> 0}, []}, {named_entity, 41, 43, B-ACTOR, {word -> Mat, confidence -> 0.7925, sentence -> 0}, []}, {named_entity, 45, 49, I-ACTOR, {word -> Damon, confidence -> 0.794, sentence -> 0}, []}]                                                                                                                                                                                                                                                                                                                                                                                                                                                                                                                                                                                                                                          |\n",
            "|[{named_entity, 0, 3, O, {word -> What, confidence -> 0.9818, sentence -> 0}, []}, {named_entity, 5, 9, O, {word -> films, confidence -> 0.5933, sentence -> 0}, []}, {named_entity, 11, 13, O, {word -> use, confidence -> 0.8855, sentence -> 0}, []}, {named_entity, 15, 17, O, {word -> the, confidence -> 0.7102, sentence -> 0}, []}, {named_entity, 19, 22, O, {word -> song, confidence -> 0.848, sentence -> 0}, []}, {named_entity, 24, 30, B-SONG, {word -> zippity, confidence -> 0.686, sentence -> 0}, []}, {named_entity, 32, 33, I-SONG, {word -> do, confidence -> 0.747, sentence -> 0}, []}, {named_entity, 35, 36, I-SONG, {word -> da, confidence -> 0.4883, sentence -> 0}, []}]                                                                                                                                                                                                                                                                                                                                                                                                                                                                                                                                                                                                                                                                                                                                    |\n",
            "|[{named_entity, 0, 1, O, {word -> In, confidence -> 0.9991, sentence -> 0}, []}, {named_entity, 3, 6, O, {word -> what, confidence -> 0.9554, sentence -> 0}, []}, {named_entity, 8, 12, O, {word -> genre, confidence -> 0.5141, sentence -> 0}, []}, {named_entity, 14, 15, O, {word -> is, confidence -> 0.8772, sentence -> 0}, []}, {named_entity, 17, 19, O, {word -> the, confidence -> 0.8107, sentence -> 0}, []}, {named_entity, 21, 25, O, {word -> movie, confidence -> 0.8047, sentence -> 0}, []}, {named_entity, 27, 29, B-TITLE, {word -> Par, confidence -> 0.9735, sentence -> 0}, []}, {named_entity, 31, 31, I-TITLE, {word -> 6, confidence -> 0.9489, sentence -> 0}, []}]                                                                                                                                                                                                                                                                                                                                                                                                                                                                                                                                                                                                                                                                                                                                          |\n",
            "|[{named_entity, 0, 1, O, {word -> Is, confidence -> 0.9999, sentence -> 0}, []}, {named_entity, 3, 7, O, {word -> there, confidence -> 0.9967, sentence -> 0}, []}, {named_entity, 9, 9, O, {word -> a, confidence -> 0.9948, sentence -> 0}, []}, {named_entity, 11, 21, B-GENRE, {word -> documentary, confidence -> 0.9952, sentence -> 0}, []}, {named_entity, 23, 27, O, {word -> about, confidence -> 0.995, sentence -> 0}, []}, {named_entity, 29, 31, O, {word -> the, confidence -> 0.9823, sentence -> 0}, []}, {named_entity, 33, 38, B-PLOT, {word -> sports, confidence -> 0.7821, sentence -> 0}, []}, {named_entity, 40, 45, I-PLOT, {word -> agency, confidence -> 0.7515, sentence -> 0}, []}, {named_entity, 47, 54, I-PLOT, {word -> industry, confidence -> 0.7468, sentence -> 0}, []}]                                                                                                                                                                                                                                                                                                                                                                                                                                                                                                                                                                                                                             |\n",
            "|[{named_entity, 0, 7, B-ACTOR, {word -> Channing, confidence -> 0.9481, sentence -> 0}, []}, {named_entity, 9, 13, I-ACTOR, {word -> Tatum, confidence -> 0.7966, sentence -> 0}, []}, {named_entity, 15, 17, O, {word -> has, confidence -> 0.9406, sentence -> 0}, []}, {named_entity, 19, 24, O, {word -> played, confidence -> 0.8373, sentence -> 0}, []}, {named_entity, 26, 29, O, {word -> what, confidence -> 0.9498, sentence -> 0}, []}, {named_entity, 31, 38, O, {word -> starring, confidence -> 0.5881, sentence -> 0}, []}, {named_entity, 40, 44, O, {word -> roles, confidence -> 0.3064, sentence -> 0}, []}]                                                                                                                                                                                                                                                                                                                                                                                                                                                                                                                                                                                                                                                                                                                                                                                                          |\n",
            "|[{named_entity, 0, 3, O, {word -> List, confidence -> 0.9999, sentence -> 0}, []}, {named_entity, 5, 6, O, {word -> of, confidence -> 0.819, sentence -> 0}, []}, {named_entity, 8, 13, O, {word -> actors, confidence -> 0.5144, sentence -> 0}, []}, {named_entity, 15, 15, O, {word -> A, confidence -> 0.4373, sentence -> 0}, []}, {named_entity, 17, 25, B-TITLE, {word -> Beautiful, confidence -> 0.51, sentence -> 0}, []}, {named_entity, 27, 30, I-TITLE, {word -> Mind, confidence -> 0.9545, sentence -> 0}, []}]                                                                                                                                                                                                                                                                                                                                                                                                                                                                                                                                                                                                                                                                                                                                                                                                                                                                                                            |\n",
            "|[{named_entity, 0, 3, O, {word -> Find, confidence -> 0.9982, sentence -> 0}, []}, {named_entity, 5, 7, O, {word -> the, confidence -> 0.8006, sentence -> 0}, []}, {named_entity, 9, 15, B-PLOT, {word -> Melissa, confidence -> 0.4065, sentence -> 0}, []}, {named_entity, 17, 19, O, {word -> Leo, confidence -> 0.389, sentence -> 0}, []}, {named_entity, 21, 25, O, {word -> Movie, confidence -> 0.9442, sentence -> 0}, []}, {named_entity, 27, 31, O, {word -> about, confidence -> 0.9758, sentence -> 0}, []}, {named_entity, 33, 41, B-PLOT, {word -> smuggling, confidence -> 0.8365, sentence -> 0}, []}, {named_entity, 43, 50, I-PLOT, {word -> illegals, confidence -> 0.3701, sentence -> 0}, []}, {named_entity, 52, 57, I-PLOT, {word -> across, confidence -> 0.552, sentence -> 0}, []}, {named_entity, 59, 61, I-PLOT, {word -> the, confidence -> 0.493, sentence -> 0}, []}, {named_entity, 63, 68, I-PLOT, {word -> border, confidence -> 0.6866, sentence -> 0}, []}]                                                                                                                                                                                                                                                                                                                                                                                                                                         |\n",
            "|[{named_entity, 0, 3, O, {word -> Tell, confidence -> 0.9995, sentence -> 0}, []}, {named_entity, 5, 6, O, {word -> me, confidence -> 0.8948, sentence -> 0}, []}, {named_entity, 8, 10, O, {word -> the, confidence -> 0.961, sentence -> 0}, []}, {named_entity, 12, 19, O, {word -> director, confidence -> 0.477, sentence -> 0}, []}, {named_entity, 20, 20, O, {word -> ,, confidence -> 0.9347, sentence -> 0}, []}, {named_entity, 22, 27, O, {word -> rating, confidence -> 0.8221, sentence -> 0}, []}, {named_entity, 29, 31, O, {word -> and, confidence -> 0.9182, sentence -> 0}, []}, {named_entity, 33, 43, O, {word -> publication, confidence -> 0.8766, sentence -> 0}, []}, {named_entity, 45, 48, O, {word -> date, confidence -> 0.8296, sentence -> 0}, []}, {named_entity, 50, 51, O, {word -> of, confidence -> 0.8924, sentence -> 0}, []}, {named_entity, 53, 53, O, {word -> a, confidence -> 0.701, sentence -> 0}, []}, {named_entity, 55, 64, B-TITLE, {word -> Apocalypse, confidence -> 0.5108, sentence -> 0}, []}, {named_entity, 66, 68, I-TITLE, {word -> Now, confidence -> 0.8705, sentence -> 0}, []}]                                                                                                                                                                                                                                                                                            |\n",
            "|[{named_entity, 0, 5, B-TITLE, {word -> Avatar, confidence -> 0.8806, sentence -> 0}, []}, {named_entity, 7, 10, O, {word -> came, confidence -> 0.9182, sentence -> 0}, []}, {named_entity, 12, 14, O, {word -> out, confidence -> 0.8617, sentence -> 0}, []}, {named_entity, 16, 19, O, {word -> when, confidence -> 0.747, sentence -> 0}, []}, {named_entity, 21, 23, O, {word -> and, confidence -> 0.751, sentence -> 0}, []}, {named_entity, 25, 28, O, {word -> what, confidence -> 0.8251, sentence -> 0}, []}, {named_entity, 30, 32, O, {word -> did, confidence -> 0.9344, sentence -> 0}, []}, {named_entity, 34, 35, O, {word -> it, confidence -> 0.7575, sentence -> 0}, []}, {named_entity, 37, 41, O, {word -> gross, confidence -> 0.9662, sentence -> 0}, []}]                                                                                                                                                                                                                                                                                                                                                                                                                                                                                                                                                                                                                                                       |\n",
            "|[{named_entity, 0, 2, O, {word -> Who, confidence -> 0.9995, sentence -> 0}, []}, {named_entity, 4, 5, O, {word -> is, confidence -> 0.9729, sentence -> 0}, []}, {named_entity, 7, 9, O, {word -> the, confidence -> 0.9723, sentence -> 0}, []}, {named_entity, 11, 18, O, {word -> director, confidence -> 0.9077, sentence -> 0}, []}, {named_entity, 20, 21, O, {word -> of, confidence -> 0.8424, sentence -> 0}, []}, {named_entity, 23, 26, B-TITLE, {word -> Star, confidence -> 0.9854, sentence -> 0}, []}, {named_entity, 28, 31, I-TITLE, {word -> Wars, confidence -> 0.9672, sentence -> 0}, []}, {named_entity, 32, 32, I-TITLE, {word -> :, confidence -> 0.9841, sentence -> 0}, []}, {named_entity, 34, 40, I-TITLE, {word -> Episode, confidence -> 0.6077, sentence -> 0}, []}, {named_entity, 42, 43, I-TITLE, {word -> VI, confidence -> 0.934, sentence -> 0}, []}, {named_entity, 45, 45, I-TITLE, {word -> -, confidence -> 0.9752, sentence -> 0}, []}, {named_entity, 47, 52, I-TITLE, {word -> Return, confidence -> 0.8242, sentence -> 0}, []}, {named_entity, 54, 55, I-TITLE, {word -> of, confidence -> 0.4843, sentence -> 0}, []}, {named_entity, 57, 59, I-TITLE, {word -> the, confidence -> 0.6023, sentence -> 0}, []}, {named_entity, 61, 64, I-TITLE, {word -> Jedi, confidence -> 0.9115, sentence -> 0}, []}, {named_entity, 65, 65, O, {word -> ?, confidence -> 0.9839, sentence -> 0}, []}]|\n",
            "|[{named_entity, 0, 2, O, {word -> Who, confidence -> 0.9993, sentence -> 0}, []}, {named_entity, 4, 5, O, {word -> is, confidence -> 0.9516, sentence -> 0}, []}, {named_entity, 7, 9, O, {word -> the, confidence -> 0.9707, sentence -> 0}, []}, {named_entity, 11, 22, O, {word -> screenwriter, confidence -> 0.7658, sentence -> 0}, []}, {named_entity, 24, 25, O, {word -> of, confidence -> 0.8801, sentence -> 0}, []}, {named_entity, 27, 29, B-TITLE, {word -> The, confidence -> 0.8147, sentence -> 0}, []}, {named_entity, 31, 36, I-TITLE, {word -> Masked, confidence -> 0.5088, sentence -> 0}, []}, {named_entity, 38, 41, I-TITLE, {word -> Gang, confidence -> 0.9706, sentence -> 0}, []}, {named_entity, 42, 42, I-TITLE, {word -> :, confidence -> 0.9761, sentence -> 0}, []}, {named_entity, 44, 49, I-TITLE, {word -> Cyprus, confidence -> 0.851, sentence -> 0}, []}, {named_entity, 50, 50, O, {word -> ?, confidence -> 0.945, sentence -> 0}, []}]                                                                                                                                                                                                                                                                                                                                                                                                                                                         |\n",
            "|[{named_entity, 0, 3, O, {word -> When, confidence -> 0.9967, sentence -> 0}, []}, {named_entity, 5, 7, O, {word -> was, confidence -> 0.9958, sentence -> 0}, []}, {named_entity, 9, 9, O, {word -> ', confidence -> 0.8968, sentence -> 0}, []}, {named_entity, 10, 12, B-TITLE, {word -> The, confidence -> 0.4935, sentence -> 0}, []}, {named_entity, 14, 22, I-TITLE, {word -> Godfather, confidence -> 0.9047, sentence -> 0}, []}, {named_entity, 23, 23, O, {word -> ', confidence -> 0.9714, sentence -> 0}, []}, {named_entity, 25, 32, O, {word -> released, confidence -> 0.9811, sentence -> 0}, []}, {named_entity, 33, 33, O, {word -> ?, confidence -> 0.9427, sentence -> 0}, []}]                                                                                                                                                                                                                                                                                                                                                                                                                                                                                                                                                                                                                                                                                                                                      |\n",
            "+------------------------------------------------------------------------------------------------------------------------------------------------------------------------------------------------------------------------------------------------------------------------------------------------------------------------------------------------------------------------------------------------------------------------------------------------------------------------------------------------------------------------------------------------------------------------------------------------------------------------------------------------------------------------------------------------------------------------------------------------------------------------------------------------------------------------------------------------------------------------------------------------------------------------------------------------------------------------------------------------------------------------------------------------------------------------------------------------------------------------------------------------------------------------------------------------------------------------------------------------------------------------------------------------------------------------------------------------------------------------------------------------------------------------------------------+\n",
            "\n"
          ]
        }
      ]
    },
    {
      "cell_type": "markdown",
      "source": [
        "# T5 for SQL Query generation"
      ],
      "metadata": {
        "id": "Fc6JqTM8e0Ff"
      }
    },
    {
      "cell_type": "code",
      "execution_count": 51,
      "metadata": {
        "id": "QAZ3vOX_SW7B",
        "colab": {
          "base_uri": "https://localhost:8080/"
        },
        "outputId": "de85fec3-672e-4ba0-c299-c1e34616606c"
      },
      "outputs": [
        {
          "output_type": "stream",
          "name": "stdout",
          "text": [
            "t5_small_wikiSQL download started this may take some time.\n",
            "Approximate size to download 249.9 MB\n",
            "[OK!]\n"
          ]
        }
      ],
      "source": [
        "documentAssembler = DocumentAssembler() \\\n",
        "    .setInputCol(\"text\") \\\n",
        "    .setOutputCol(\"documents\")\n",
        "t5 = T5Transformer.pretrained(\"t5_small_wikiSQL\") \\\n",
        "    .setTask(\"translate English to SQL:\") \\\n",
        "    .setInputCols([\"documents\"]) \\\n",
        "    .setMaxOutputLength(200) \\\n",
        "    .setOutputCol(\"sql\")\n"
      ]
    },
    {
      "cell_type": "code",
      "source": [
        "sql_pipeline = Pipeline().setStages([documentAssembler, t5])"
      ],
      "metadata": {
        "id": "vz_le9iGRtky"
      },
      "execution_count": 73,
      "outputs": []
    },
    {
      "cell_type": "code",
      "source": [
        "# df = spark.createDataFrame(text_list, StringType()).toDF(\"text\")\n",
        "# result = sql_pipeline.fit(df).transform(df)"
      ],
      "metadata": {
        "id": "HsZgbeJa_iYB"
      },
      "execution_count": 50,
      "outputs": []
    },
    {
      "cell_type": "code",
      "source": [
        "sql_result = sql_pipeline.fit(example).transform(example)"
      ],
      "metadata": {
        "id": "6kfaXRwP5Wtg"
      },
      "execution_count": 74,
      "outputs": []
    },
    {
      "cell_type": "code",
      "source": [
        "sql_result.select(\"text\",\"sql.result\").show(truncate=False)"
      ],
      "metadata": {
        "colab": {
          "base_uri": "https://localhost:8080/"
        },
        "id": "Q2IS6DuUBleo",
        "outputId": "8b030018-f609-43df-caa8-e8b86c8301e1"
      },
      "execution_count": 75,
      "outputs": [
        {
          "output_type": "stream",
          "name": "stdout",
          "text": [
            "+---------------------------------------------------------------------+------------------------------------------------------------------------------------------+\n",
            "|text                                                                 |result                                                                                    |\n",
            "+---------------------------------------------------------------------+------------------------------------------------------------------------------------------+\n",
            "|What is the most current movie featuring Mat Damon                   |[SELECT MAX Current Movie FROM table WHERE Player = mat damon]                            |\n",
            "|What films use the song zippity do da                                |[SELECT Films FROM table WHERE Song = zippity do da]                                      |\n",
            "|In what genre is the movie Par 6                                     |[SELECT Genre FROM table WHERE Movie = par 6]                                             |\n",
            "|Is there a documentary about the sports agency industry              |[SELECT Documentar FROM table WHERE Industry = sports agency]                             |\n",
            "|Channing Tatum has played what starring roles                        |[SELECT Actors FROM table WHERE Player = Channing Tatum]                                  |\n",
            "|List of actors A Beautiful Mind                                      |[SELECT Actor FROM table WHERE A Beautiful Mind = A Beautiful Mind]                       |\n",
            "|Find the Melissa Leo Movie about smuggling illegals across the border|[SELECT Melissa Leo Movie FROM table WHERE Smuggling illegals across the border = illegal]|\n",
            "|Tell me the director, rating and publication date of a Apocalypse Now|[SELECT Director, Rating and Publication Date FROM table WHERE Name = apokalypse now]     |\n",
            "|Avatar came out when and what did it gross                           |[SELECT Date FROM table WHERE Name = avatar]                                              |\n",
            "|Who is the director of Star Wars: Episode VI - Return of the Jedi?   |[SELECT Director FROM table WHERE Title = star wars: episode vii - return of the Jedi]    |\n",
            "|Who is the screenwriter of The Masked Gang: Cyprus?                  |[SELECT Screenwriter FROM table WHERE Title = The Masked Gang: Cyprus]                    |\n",
            "|When was 'The Godfather' released?                                   |[SELECT Release date FROM table WHERE Title = 'the godfather']                            |\n",
            "+---------------------------------------------------------------------+------------------------------------------------------------------------------------------+\n",
            "\n"
          ]
        }
      ]
    },
    {
      "cell_type": "code",
      "source": [],
      "metadata": {
        "id": "V-pdfFR45hHm"
      },
      "execution_count": null,
      "outputs": []
    }
  ]
}